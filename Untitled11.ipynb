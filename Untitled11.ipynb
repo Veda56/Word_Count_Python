{
  "nbformat": 4,
  "nbformat_minor": 0,
  "metadata": {
    "colab": {
      "private_outputs": true,
      "provenance": []
    },
    "kernelspec": {
      "name": "python3",
      "display_name": "Python 3"
    },
    "language_info": {
      "name": "python"
    }
  },
  "cells": [
    {
      "cell_type": "code",
      "execution_count": null,
      "metadata": {
        "id": "-N5ouWmTNIyp"
      },
      "outputs": [],
      "source": [
        "import time\n",
        "\n",
        "def count_words(text):\n",
        "    \"\"\"\n",
        "    Function to count the number of words in a given text.\n",
        "    \"\"\"\n",
        "    words = text.split()\n",
        "    return len(words)\n",
        "\n",
        "def fancy_output(word_count):\n",
        "    \"\"\"\n",
        "    Function to display the output in a fancy way.\n",
        "    \"\"\"\n",
        "    print(\"\\n===============================\")\n",
        "    print(\"       WORD COUNT RESULT       \")\n",
        "    print(\"===============================\")\n",
        "    time.sleep(0.5)  # Adding a slight delay for effect\n",
        "    print(f\"📜 You entered {word_count} words.\")\n",
        "    print(\"===============================\\n\")\n",
        "\n",
        "def main():\n",
        "    \"\"\"\n",
        "    Main function to handle user input and display the word count.\n",
        "    \"\"\"\n",
        "    print(\"🔹 Welcome to the Word Counter 🔹\")\n",
        "    print(\"Enter a sentence or paragraph below:\")\n",
        "\n",
        "    try:\n",
        "        text = input(\"📝 Your input: \").strip()\n",
        "\n",
        "        if not text:\n",
        "            print(\"⚠ Error: Input cannot be empty. Please enter some text.\")\n",
        "            return\n",
        "\n",
        "        word_count = count_words(text)\n",
        "        fancy_output(word_count)\n",
        "\n",
        "    except Exception as e:\n",
        "        print(f\"❌ An error occurred: {e}\")\n",
        "\n",
        "if __name__ == \"__main__\":\n",
        "    main()\n"
      ]
    }
  ]
}